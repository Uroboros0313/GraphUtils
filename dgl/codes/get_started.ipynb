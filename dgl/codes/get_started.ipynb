{
 "cells": [
  {
   "cell_type": "markdown",
   "source": [
    "# 图构建"
   ],
   "metadata": {
    "collapsed": false,
    "pycharm": {
     "name": "#%% md\n"
    }
   }
  },
  {
   "cell_type": "code",
   "execution_count": 2,
   "outputs": [
    {
     "name": "stdout",
     "output_type": "stream",
     "text": [
      "Graph(num_nodes=4, num_edges=4,\n",
      "      ndata_schemes={}\n",
      "      edata_schemes={})\n"
     ]
    }
   ],
   "source": [
    "import dgl\n",
    "import torch as th\n",
    "# 边 0->1, 0->2, 0->3, 1->3\n",
    "u, v = th.tensor([0, 0, 0, 1]), th.tensor([1, 2, 3, 3])\n",
    "g = dgl.graph((u, v))\n",
    "print(g) # 图中节点的数量是DGL通过给定的图的边列表中最大的点ID推断所得出的（ID从0开始的）"
   ],
   "metadata": {
    "collapsed": false,
    "pycharm": {
     "name": "#%%\n"
    }
   }
  },
  {
   "cell_type": "code",
   "execution_count": 3,
   "outputs": [
    {
     "name": "stdout",
     "output_type": "stream",
     "text": [
      "tensor([0, 1, 2, 3])\n"
     ]
    }
   ],
   "source": [
    "# 获取节点的ID\n",
    "print(g.nodes())"
   ],
   "metadata": {
    "collapsed": false,
    "pycharm": {
     "name": "#%%\n"
    }
   }
  },
  {
   "cell_type": "code",
   "execution_count": 4,
   "outputs": [
    {
     "name": "stdout",
     "output_type": "stream",
     "text": [
      "(tensor([0, 0, 0, 1]), tensor([1, 2, 3, 3]))\n"
     ]
    }
   ],
   "source": [
    "# 获取边的对应端点\n",
    "print(g.edges())"
   ],
   "metadata": {
    "collapsed": false,
    "pycharm": {
     "name": "#%%\n"
    }
   }
  },
  {
   "cell_type": "code",
   "execution_count": 5,
   "outputs": [
    {
     "name": "stdout",
     "output_type": "stream",
     "text": [
      "(tensor([0, 0, 0, 1]), tensor([1, 2, 3, 3]), tensor([0, 1, 2, 3]))\n"
     ]
    }
   ],
   "source": [
    "# 获取边的对应端点和边ID\n",
    "print(g.edges(form='all'))"
   ],
   "metadata": {
    "collapsed": false,
    "pycharm": {
     "name": "#%%\n"
    }
   }
  },
  {
   "cell_type": "code",
   "execution_count": 7,
   "outputs": [
    {
     "name": "stdout",
     "output_type": "stream",
     "text": [
      "Graph(num_nodes=8, num_edges=4,\n",
      "      ndata_schemes={}\n",
      "      edata_schemes={})\n"
     ]
    }
   ],
   "source": [
    "# 如果具有最大ID的节点没有边，在创建图的时候，用户需要明确地指明节点的数量。\n",
    "# 例如这里共计8个节点，4条边\n",
    "g = dgl.graph((u, v), num_nodes=8)\n",
    "print(g)"
   ],
   "metadata": {
    "collapsed": false,
    "pycharm": {
     "name": "#%%\n"
    }
   }
  },
  {
   "cell_type": "markdown",
   "source": [
    "## 转为无向图"
   ],
   "metadata": {
    "collapsed": false,
    "pycharm": {
     "name": "#%% md\n"
    }
   }
  },
  {
   "cell_type": "markdown",
   "source": [
    "无向图，即 A -> B, B -> A 均有一条边，相应地对应于原始的有向图，边的数目加倍"
   ],
   "metadata": {
    "collapsed": false,
    "pycharm": {
     "name": "#%% md\n"
    }
   }
  },
  {
   "cell_type": "code",
   "execution_count": 13,
   "outputs": [
    {
     "name": "stdout",
     "output_type": "stream",
     "text": [
      "Graph(num_nodes=4, num_edges=8,\n",
      "      ndata_schemes={}\n",
      "      edata_schemes={})\n",
      "Graph(num_nodes=4, num_edges=8,\n",
      "      ndata_schemes={}\n",
      "      edata_schemes={})\n"
     ]
    }
   ],
   "source": [
    "g = dgl.graph((u, v))\n",
    "\n",
    "# 方法一： 自定义双向的“有向边”\n",
    "u1 = th.cat((u, v), dim=0)\n",
    "v1 = th.cat((v, u), dim=0)\n",
    "bg1 = dgl.graph((u1, v1))\n",
    "print(bg1)\n",
    "\n",
    "# 方法二： 直接使用内置函数，转化成无向图\n",
    "bg2 = dgl.to_bidirected(g)\n",
    "print(bg2)"
   ],
   "metadata": {
    "collapsed": false,
    "pycharm": {
     "name": "#%%\n"
    }
   }
  },
  {
   "cell_type": "markdown",
   "source": [
    "## 创建节点、边的特征"
   ],
   "metadata": {
    "collapsed": false,
    "pycharm": {
     "name": "#%% md\n"
    }
   }
  },
  {
   "cell_type": "code",
   "execution_count": 19,
   "outputs": [
    {
     "name": "stdout",
     "output_type": "stream",
     "text": [
      "Graph(num_nodes=6, num_edges=4,\n",
      "      ndata_schemes={}\n",
      "      edata_schemes={})\n"
     ]
    }
   ],
   "source": [
    "# 6个节点(0-5)，4条边\n",
    "g = dgl.graph(([0, 0, 1, 5], [1, 2, 2, 0]))\n",
    "print(g)"
   ],
   "metadata": {
    "collapsed": false,
    "pycharm": {
     "name": "#%%\n"
    }
   }
  },
  {
   "cell_type": "code",
   "execution_count": 22,
   "outputs": [
    {
     "data": {
      "text/plain": "Graph(num_nodes=6, num_edges=4,\n      ndata_schemes={'x': Scheme(shape=(3,), dtype=torch.float32)}\n      edata_schemes={'x': Scheme(shape=(), dtype=torch.int32)})"
     },
     "execution_count": 22,
     "metadata": {},
     "output_type": "execute_result"
    }
   ],
   "source": [
    "g.ndata['x'] = th.ones(g.num_nodes(), 3)               # 长度为3的节点特征, 1*3的全1向量\n",
    "g.edata['x'] = th.ones(g.num_edges(), dtype=th.int32)  # 标量整型特征\n",
    "g"
   ],
   "metadata": {
    "collapsed": false,
    "pycharm": {
     "name": "#%%\n"
    }
   }
  },
  {
   "cell_type": "code",
   "execution_count": 24,
   "outputs": [
    {
     "data": {
      "text/plain": "Graph(num_nodes=6, num_edges=4,\n      ndata_schemes={'x': Scheme(shape=(3,), dtype=torch.float32), 'y': Scheme(shape=(5,), dtype=torch.float32)}\n      edata_schemes={'x': Scheme(shape=(), dtype=torch.int32)})"
     },
     "execution_count": 24,
     "metadata": {},
     "output_type": "execute_result"
    }
   ],
   "source": [
    "# 不同名称的特征可以具有不同形状\n",
    "g.ndata['y'] = th.randn(g.num_nodes(), 5)\n",
    "g"
   ],
   "metadata": {
    "collapsed": false,
    "pycharm": {
     "name": "#%%\n"
    }
   }
  },
  {
   "cell_type": "code",
   "execution_count": 25,
   "outputs": [
    {
     "name": "stdout",
     "output_type": "stream",
     "text": [
      "tensor([1., 1., 1.])\n",
      "tensor([1, 1], dtype=torch.int32)\n"
     ]
    }
   ],
   "source": [
    "print(g.ndata['x'][1])                  # 获取节点1的特征\n",
    "print(g.edata['x'][th.tensor([0, 3])])  # 获取边0和3的特征"
   ],
   "metadata": {
    "collapsed": false,
    "pycharm": {
     "name": "#%%\n"
    }
   }
  },
  {
   "cell_type": "code",
   "execution_count": 26,
   "outputs": [
    {
     "data": {
      "text/plain": "Graph(num_nodes=6, num_edges=4,\n      ndata_schemes={'x': Scheme(shape=(3,), dtype=torch.float32), 'y': Scheme(shape=(5,), dtype=torch.float32)}\n      edata_schemes={'x': Scheme(shape=(), dtype=torch.int32), 'w': Scheme(shape=(), dtype=torch.float32)})"
     },
     "execution_count": 26,
     "metadata": {},
     "output_type": "execute_result"
    }
   ],
   "source": [
    "# 加权图，将边的权重放入“w”特征之中\n",
    "weight = th.tensor([0.1, 0.6, 0.9, 0.5])\n",
    "g.edata['w'] = weight\n",
    "g"
   ],
   "metadata": {
    "collapsed": false,
    "pycharm": {
     "name": "#%%\n"
    }
   }
  },
  {
   "cell_type": "markdown",
   "source": [
    "基于以上，我们已经初步建立好了图的存储，包括有向图，无向图，带权图"
   ],
   "metadata": {
    "collapsed": false,
    "pycharm": {
     "name": "#%% md\n"
    }
   }
  },
  {
   "cell_type": "markdown",
   "source": [
    "## 异构图"
   ],
   "metadata": {
    "collapsed": false,
    "pycharm": {
     "name": "#%% md\n"
    }
   }
  },
  {
   "cell_type": "code",
   "execution_count": 28,
   "outputs": [
    {
     "name": "stdout",
     "output_type": "stream",
     "text": [
      "Graph(num_nodes={'game': 4, 'user': 3},\n",
      "      num_edges={('user', 'follows', 'user'): 2, ('user', 'plays', 'game'): 2},\n",
      "      metagraph=[('user', 'user', 'follows'), ('user', 'game', 'plays')])\n",
      "['game', 'user']\n",
      "['follows', 'plays']\n",
      "[('user', 'follows', 'user'), ('user', 'plays', 'game')]\n"
     ]
    }
   ],
   "source": [
    "# 创建一个具有2种节点类型和2种边类型的异构图\n",
    "graph_data = {\n",
    "   ('user', 'follows', 'user'): (th.tensor([0, 1]), th.tensor([1, 2])), # 用户关注用户\n",
    "   ('user', 'plays', 'game'): (th.tensor([0, 1]), th.tensor([2, 3]))    # 用户玩游戏\n",
    "}\n",
    "# 跟签名吗一样，nnodes和nedges都是 节点ID，边ID的最大值+1\n",
    "hg = dgl.heterograph(graph_data)\n",
    "print(hg)\n",
    "print(hg.ntypes)\n",
    "print(hg.etypes)\n",
    "print(hg.canonical_etypes)"
   ],
   "metadata": {
    "collapsed": false,
    "pycharm": {
     "name": "#%%\n"
    }
   }
  },
  {
   "cell_type": "code",
   "execution_count": 29,
   "outputs": [
    {
     "name": "stdout",
     "output_type": "stream",
     "text": [
      "7\n",
      "3\n",
      "tensor([0, 1, 2])\n"
     ]
    }
   ],
   "source": [
    "# 获取图中所有节点的数量\n",
    "print(g.num_nodes())\n",
    "# 获取user节点的数量\n",
    "print(g.num_nodes('user'))\n",
    "# 不同类型的节点有单独的ID。因此，没有指定节点类型就没有明确的返回值。\n",
    "\n",
    "print(g.nodes('user'))"
   ],
   "metadata": {
    "collapsed": false,
    "pycharm": {
     "name": "#%%\n"
    }
   }
  },
  {
   "cell_type": "code",
   "execution_count": 30,
   "outputs": [
    {
     "ename": "DGLError",
     "evalue": "Node type name must be specified if there are more than one node types.",
     "output_type": "error",
     "traceback": [
      "\u001B[1;31m---------------------------------------------------------------------------\u001B[0m",
      "\u001B[1;31mDGLError\u001B[0m                                  Traceback (most recent call last)",
      "Input \u001B[1;32mIn [30]\u001B[0m, in \u001B[0;36m<cell line: 1>\u001B[1;34m()\u001B[0m\n\u001B[1;32m----> 1\u001B[0m \u001B[43mg\u001B[49m\u001B[38;5;241;43m.\u001B[39;49m\u001B[43mnodes\u001B[49m\u001B[43m(\u001B[49m\u001B[43m)\u001B[49m\n",
      "File \u001B[1;32mD:\\Software\\Anaconda\\envs\\big_data\\lib\\site-packages\\dgl\\view.py:43\u001B[0m, in \u001B[0;36mHeteroNodeView.__call__\u001B[1;34m(self, ntype)\u001B[0m\n\u001B[0;32m     41\u001B[0m \u001B[38;5;28;01mdef\u001B[39;00m \u001B[38;5;21m__call__\u001B[39m(\u001B[38;5;28mself\u001B[39m, ntype\u001B[38;5;241m=\u001B[39m\u001B[38;5;28;01mNone\u001B[39;00m):\n\u001B[0;32m     42\u001B[0m     \u001B[38;5;124;03m\"\"\"Return the nodes.\"\"\"\u001B[39;00m\n\u001B[1;32m---> 43\u001B[0m     ntid \u001B[38;5;241m=\u001B[39m \u001B[38;5;28;43mself\u001B[39;49m\u001B[38;5;241;43m.\u001B[39;49m\u001B[43m_typeid_getter\u001B[49m\u001B[43m(\u001B[49m\u001B[43mntype\u001B[49m\u001B[43m)\u001B[49m\n\u001B[0;32m     44\u001B[0m     ret \u001B[38;5;241m=\u001B[39m F\u001B[38;5;241m.\u001B[39marange(\u001B[38;5;241m0\u001B[39m, \u001B[38;5;28mself\u001B[39m\u001B[38;5;241m.\u001B[39m_graph\u001B[38;5;241m.\u001B[39m_graph\u001B[38;5;241m.\u001B[39mnumber_of_nodes(ntid),\n\u001B[0;32m     45\u001B[0m                    dtype\u001B[38;5;241m=\u001B[39m\u001B[38;5;28mself\u001B[39m\u001B[38;5;241m.\u001B[39m_graph\u001B[38;5;241m.\u001B[39midtype, ctx\u001B[38;5;241m=\u001B[39m\u001B[38;5;28mself\u001B[39m\u001B[38;5;241m.\u001B[39m_graph\u001B[38;5;241m.\u001B[39mdevice)\n\u001B[0;32m     46\u001B[0m     \u001B[38;5;28;01mreturn\u001B[39;00m ret\n",
      "File \u001B[1;32mD:\\Software\\Anaconda\\envs\\big_data\\lib\\site-packages\\dgl\\heterograph.py:1184\u001B[0m, in \u001B[0;36mDGLHeteroGraph.get_ntype_id\u001B[1;34m(self, ntype)\u001B[0m\n\u001B[0;32m   1182\u001B[0m \u001B[38;5;28;01mif\u001B[39;00m ntype \u001B[38;5;129;01mis\u001B[39;00m \u001B[38;5;28;01mNone\u001B[39;00m:\n\u001B[0;32m   1183\u001B[0m     \u001B[38;5;28;01mif\u001B[39;00m \u001B[38;5;28mself\u001B[39m\u001B[38;5;241m.\u001B[39mis_unibipartite \u001B[38;5;129;01mor\u001B[39;00m \u001B[38;5;28mlen\u001B[39m(\u001B[38;5;28mself\u001B[39m\u001B[38;5;241m.\u001B[39m_srctypes_invmap) \u001B[38;5;241m!=\u001B[39m \u001B[38;5;241m1\u001B[39m:\n\u001B[1;32m-> 1184\u001B[0m         \u001B[38;5;28;01mraise\u001B[39;00m DGLError(\u001B[38;5;124m'\u001B[39m\u001B[38;5;124mNode type name must be specified if there are more than one \u001B[39m\u001B[38;5;124m'\u001B[39m\n\u001B[0;32m   1185\u001B[0m                        \u001B[38;5;124m'\u001B[39m\u001B[38;5;124mnode types.\u001B[39m\u001B[38;5;124m'\u001B[39m)\n\u001B[0;32m   1186\u001B[0m     \u001B[38;5;28;01mreturn\u001B[39;00m \u001B[38;5;241m0\u001B[39m\n\u001B[0;32m   1187\u001B[0m ntid \u001B[38;5;241m=\u001B[39m \u001B[38;5;28mself\u001B[39m\u001B[38;5;241m.\u001B[39m_srctypes_invmap\u001B[38;5;241m.\u001B[39mget(ntype, \u001B[38;5;28mself\u001B[39m\u001B[38;5;241m.\u001B[39m_dsttypes_invmap\u001B[38;5;241m.\u001B[39mget(ntype, \u001B[38;5;28;01mNone\u001B[39;00m))\n",
      "\u001B[1;31mDGLError\u001B[0m: Node type name must be specified if there are more than one node types."
     ]
    }
   ],
   "source": [
    "# 如果有多种类型的边、节点，获取时，必须指定类型，否则就会出现如下错误!!\n",
    "g.nodes()"
   ],
   "metadata": {
    "collapsed": false,
    "pycharm": {
     "name": "#%%\n"
    }
   }
  },
  {
   "cell_type": "code",
   "execution_count": null,
   "outputs": [],
   "source": [],
   "metadata": {
    "collapsed": false,
    "pycharm": {
     "name": "#%%\n"
    }
   }
  },
  {
   "cell_type": "code",
   "execution_count": null,
   "outputs": [],
   "source": [],
   "metadata": {
    "collapsed": false,
    "pycharm": {
     "name": "#%%\n"
    }
   }
  },
  {
   "cell_type": "code",
   "execution_count": null,
   "outputs": [],
   "source": [],
   "metadata": {
    "collapsed": false,
    "pycharm": {
     "name": "#%%\n"
    }
   }
  }
 ],
 "metadata": {
  "kernelspec": {
   "name": "big_data",
   "language": "python",
   "display_name": "big_data"
  },
  "language_info": {
   "codemirror_mode": {
    "name": "ipython",
    "version": 2
   },
   "file_extension": ".py",
   "mimetype": "text/x-python",
   "name": "python",
   "nbconvert_exporter": "python",
   "pygments_lexer": "ipython2",
   "version": "2.7.6"
  }
 },
 "nbformat": 4,
 "nbformat_minor": 0
}